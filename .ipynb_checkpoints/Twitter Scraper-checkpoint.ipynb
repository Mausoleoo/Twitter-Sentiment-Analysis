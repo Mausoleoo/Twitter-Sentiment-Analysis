{
 "cells": [
  {
   "cell_type": "code",
   "execution_count": 1,
   "id": "5c804149",
   "metadata": {},
   "outputs": [],
   "source": [
    "import snscrape.modules.twitter as sntwitter"
   ]
  },
  {
   "cell_type": "code",
   "execution_count": 2,
   "id": "06c7050d",
   "metadata": {},
   "outputs": [],
   "source": [
    "import pandas as pd"
   ]
  },
  {
   "cell_type": "code",
   "execution_count": 22,
   "id": "c2139e77",
   "metadata": {},
   "outputs": [],
   "source": [
    "#year/month/day\n",
    "query = \"(from:elonmusk) until:2023-02-25 since:2010-01-01\"\n",
    "max_Tweets = 100\n",
    "Tweet_list = []"
   ]
  },
  {
   "cell_type": "code",
   "execution_count": 23,
   "id": "c859d884",
   "metadata": {},
   "outputs": [
    {
     "name": "stderr",
     "output_type": "stream",
     "text": [
      "<ipython-input-23-60e63a6d3868>:5: FutureWarning: content is deprecated, use rawContent instead\n",
      "  Tweet_list.append([tweet.date, tweet.user.username , tweet.content])\n"
     ]
    }
   ],
   "source": [
    "for tweet in sntwitter.TwitterSearchScraper(query).get_items():\n",
    "    if len(Tweet_list) == max_Tweets:\n",
    "        break\n",
    "    else:\n",
    "        Tweet_list.append([tweet.date, tweet.user.username , tweet.content])        "
   ]
  },
  {
   "cell_type": "code",
   "execution_count": 24,
   "id": "b8f7ff15",
   "metadata": {},
   "outputs": [],
   "source": [
    "df = pd.DataFrame(Tweet_list, columns = ['Date', 'User', 'Tweet'])"
   ]
  },
  {
   "cell_type": "code",
   "execution_count": 25,
   "id": "2bbe5df3",
   "metadata": {},
   "outputs": [
    {
     "data": {
      "text/html": [
       "<div>\n",
       "<style scoped>\n",
       "    .dataframe tbody tr th:only-of-type {\n",
       "        vertical-align: middle;\n",
       "    }\n",
       "\n",
       "    .dataframe tbody tr th {\n",
       "        vertical-align: top;\n",
       "    }\n",
       "\n",
       "    .dataframe thead th {\n",
       "        text-align: right;\n",
       "    }\n",
       "</style>\n",
       "<table border=\"1\" class=\"dataframe\">\n",
       "  <thead>\n",
       "    <tr style=\"text-align: right;\">\n",
       "      <th></th>\n",
       "      <th>Date</th>\n",
       "      <th>User</th>\n",
       "      <th>Tweet</th>\n",
       "    </tr>\n",
       "  </thead>\n",
       "  <tbody>\n",
       "    <tr>\n",
       "      <th>0</th>\n",
       "      <td>2023-02-24 23:13:09+00:00</td>\n",
       "      <td>elonmusk</td>\n",
       "      <td>@BillyM2k @stillgray 🎯</td>\n",
       "    </tr>\n",
       "    <tr>\n",
       "      <th>1</th>\n",
       "      <td>2023-02-24 22:47:08+00:00</td>\n",
       "      <td>elonmusk</td>\n",
       "      <td>@RalphNader Ralph Nader, you are lying – shame...</td>\n",
       "    </tr>\n",
       "    <tr>\n",
       "      <th>2</th>\n",
       "      <td>2023-02-24 21:35:22+00:00</td>\n",
       "      <td>elonmusk</td>\n",
       "      <td>@kcoleman Cool</td>\n",
       "    </tr>\n",
       "    <tr>\n",
       "      <th>3</th>\n",
       "      <td>2023-02-24 21:08:36+00:00</td>\n",
       "      <td>elonmusk</td>\n",
       "      <td>@BillyM2k !!</td>\n",
       "    </tr>\n",
       "    <tr>\n",
       "      <th>4</th>\n",
       "      <td>2023-02-24 19:42:01+00:00</td>\n",
       "      <td>elonmusk</td>\n",
       "      <td>@Teslaconomics Death threats should result in ...</td>\n",
       "    </tr>\n",
       "    <tr>\n",
       "      <th>...</th>\n",
       "      <td>...</td>\n",
       "      <td>...</td>\n",
       "      <td>...</td>\n",
       "    </tr>\n",
       "    <tr>\n",
       "      <th>95</th>\n",
       "      <td>2023-02-21 02:25:11+00:00</td>\n",
       "      <td>elonmusk</td>\n",
       "      <td>@AdamLowisz @paulg @Liv_Boeree 🤣</td>\n",
       "    </tr>\n",
       "    <tr>\n",
       "      <th>96</th>\n",
       "      <td>2023-02-21 02:19:54+00:00</td>\n",
       "      <td>elonmusk</td>\n",
       "      <td>@paulg @Liv_Boeree A large collection of GPUs ...</td>\n",
       "    </tr>\n",
       "    <tr>\n",
       "      <th>97</th>\n",
       "      <td>2023-02-21 02:16:22+00:00</td>\n",
       "      <td>elonmusk</td>\n",
       "      <td>@davidad The Internet is its memory</td>\n",
       "    </tr>\n",
       "    <tr>\n",
       "      <th>98</th>\n",
       "      <td>2023-02-21 02:14:07+00:00</td>\n",
       "      <td>elonmusk</td>\n",
       "      <td>@Rainmaker1973 !</td>\n",
       "    </tr>\n",
       "    <tr>\n",
       "      <th>99</th>\n",
       "      <td>2023-02-21 02:10:19+00:00</td>\n",
       "      <td>elonmusk</td>\n",
       "      <td>@paulg @engineers_feed An ideal air conditione...</td>\n",
       "    </tr>\n",
       "  </tbody>\n",
       "</table>\n",
       "<p>100 rows × 3 columns</p>\n",
       "</div>"
      ],
      "text/plain": [
       "                        Date      User  \\\n",
       "0  2023-02-24 23:13:09+00:00  elonmusk   \n",
       "1  2023-02-24 22:47:08+00:00  elonmusk   \n",
       "2  2023-02-24 21:35:22+00:00  elonmusk   \n",
       "3  2023-02-24 21:08:36+00:00  elonmusk   \n",
       "4  2023-02-24 19:42:01+00:00  elonmusk   \n",
       "..                       ...       ...   \n",
       "95 2023-02-21 02:25:11+00:00  elonmusk   \n",
       "96 2023-02-21 02:19:54+00:00  elonmusk   \n",
       "97 2023-02-21 02:16:22+00:00  elonmusk   \n",
       "98 2023-02-21 02:14:07+00:00  elonmusk   \n",
       "99 2023-02-21 02:10:19+00:00  elonmusk   \n",
       "\n",
       "                                                Tweet  \n",
       "0                              @BillyM2k @stillgray 🎯  \n",
       "1   @RalphNader Ralph Nader, you are lying – shame...  \n",
       "2                                      @kcoleman Cool  \n",
       "3                                        @BillyM2k !!  \n",
       "4   @Teslaconomics Death threats should result in ...  \n",
       "..                                                ...  \n",
       "95                   @AdamLowisz @paulg @Liv_Boeree 🤣  \n",
       "96  @paulg @Liv_Boeree A large collection of GPUs ...  \n",
       "97                @davidad The Internet is its memory  \n",
       "98                                   @Rainmaker1973 !  \n",
       "99  @paulg @engineers_feed An ideal air conditione...  \n",
       "\n",
       "[100 rows x 3 columns]"
      ]
     },
     "execution_count": 25,
     "metadata": {},
     "output_type": "execute_result"
    }
   ],
   "source": [
    "df"
   ]
  }
 ],
 "metadata": {
  "kernelspec": {
   "display_name": "Python 3",
   "language": "python",
   "name": "python3"
  },
  "language_info": {
   "codemirror_mode": {
    "name": "ipython",
    "version": 3
   },
   "file_extension": ".py",
   "mimetype": "text/x-python",
   "name": "python",
   "nbconvert_exporter": "python",
   "pygments_lexer": "ipython3",
   "version": "3.8.8"
  }
 },
 "nbformat": 4,
 "nbformat_minor": 5
}
